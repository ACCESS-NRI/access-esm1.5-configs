{
 "cells": [
  {
   "attachments": {},
   "cell_type": "markdown",
   "metadata": {},
   "source": [
    "Test generating CO2 for 2025-2029\n",
    "\n",
    "Uses the 2022-12-23 version from https://github.com/Jete90/AERA\n",
    "https://github.com/Jete90/AERA/commit/d0251d8f8cfc5503f959ab35089f3a2a26875318"
   ]
  },
  {
   "cell_type": "code",
   "execution_count": 1,
   "metadata": {
    "vscode": {
     "languageId": "python"
    }
   },
   "outputs": [],
   "source": [
    "import sys, numpy as np\n",
    "import matplotlib.pyplot as plt\n",
    "import xarray as xr\n",
    "sys.path.append('/g/data1a/p66/mrd599/venv/aera/lib/python3.9/site-packages')\n",
    "import aera\n",
    "from pathlib import Path\n",
    "import time\n",
    "import pandas as pd\n",
    "import mule\n",
    "from mule.operators import ScaleFactorOperator\n",
    "from notebook_metadata import create_savefig\n",
    "\n",
    "savefig = create_savefig(dir='/g/data/p66/mrd599/temp', nb='aera_co2_update_new.ipynb')"
   ]
  },
  {
   "cell_type": "code",
   "execution_count": 2,
   "metadata": {
    "vscode": {
     "languageId": "python"
    }
   },
   "outputs": [
    {
     "name": "stderr",
     "output_type": "stream",
     "text": [
      "/g/data/hh5/public/apps/miniconda3/envs/analysis3-22.07/lib/python3.9/site-packages/xarray/coding/times.py:699: SerializationWarning: Unable to decode time axis into full numpy.datetime64 objects, continuing using cftime.datetime objects instead, reason: dates out of range\n",
      "  dtype = _decode_cf_datetime_dtype(data, units, calendar, self.use_cftime)\n",
      "/g/data/hh5/public/apps/miniconda3/envs/analysis3-22.07/lib/python3.9/site-packages/xarray/core/indexing.py:524: SerializationWarning: Unable to decode time axis into full numpy.datetime64 objects, continuing using cftime.datetime objects instead, reason: dates out of range\n",
      "  return np.asarray(array[self.key], dtype=None)\n"
     ]
    }
   ],
   "source": [
    "year = 2025\n",
    "RUNID = 'AERA-ABS1p5-03.nc'\n",
    "# File extends to 2025\n",
    "d = xr.load_dataset('/scratch/p66/mrd599/aera_input_AERA-ABS1p5-03.nc')\n",
    "# d_pi = xr.load_dataset('/g/data/p66/mrd599/AERA/aera_input_PI.nc', use_cftime=True)\n",
    "luc = xr.load_dataset('/g/data/p66/mrd599/AERA/luc_emissions.nc').luc\n",
    "luc_21 = xr.load_dataset('/g/data/p66/mrd599/AERA/luc_emissions_21.nc').luc\n",
    "tas = d.tas\n",
    "co2 = d.co2\n",
    "# tas_pi = d_pi.tas\n",
    "# co2_pi = d_pi.co2\n",
    "C_CO2        = 1.5188\n",
    "target = 1.5\n",
    "ABS = True"
   ]
  },
  {
   "cell_type": "code",
   "execution_count": 3,
   "metadata": {
    "vscode": {
     "languageId": "python"
    }
   },
   "outputs": [
    {
     "name": "stdout",
     "output_type": "stream",
     "text": [
      "Use the following non-CO2 emission file: /g/data1a/p66/mrd599/venv/aera/lib/python3.9/site-packages/aera/data/nonco2_emis_ssp126_v3.dat\n",
      "Use the following land use emission file: /g/data1a/p66/mrd599/venv/aera/lib/python3.9/site-packages/aera/data/lu_emis_ssp126_bern3d_adj_GCB2020_v1.dat\n",
      "Use the following historical fossil fuel CO2 emission file: /g/data1a/p66/mrd599/venv/aera/lib/python3.9/site-packages/aera/data/co2_ff_GCP_plus_NDC_v1.dat\n",
      "Relative anthropogenic warming in Year X:  1.2318387149180126\n",
      "Cumulative past emissions:  632.4829278413133\n",
      "REB:  137.68639730862256\n",
      "CO2-fe emissions [Pg C] (fossil fuel CO2 + landuse + non-CO2) over next years:\n",
      "year\n",
      "2026    1.221678e+01\n",
      "2027    1.190923e+01\n",
      "2028    1.150753e+01\n",
      "2029    1.102227e+01\n",
      "2030    1.046403e+01\n",
      "2031    9.843388e+00\n",
      "2032    9.170929e+00\n",
      "2033    8.457236e+00\n",
      "2034    7.712893e+00\n",
      "2035    6.948480e+00\n",
      "2036    6.174582e+00\n",
      "2037    5.401781e+00\n",
      "2038    4.640660e+00\n",
      "2039    3.901800e+00\n",
      "2040    3.195786e+00\n",
      "2041    2.533198e+00\n",
      "2042    1.924621e+00\n",
      "2043    1.380637e+00\n",
      "2044    9.118280e-01\n",
      "2045    5.287773e-01\n",
      "2046    2.420672e-01\n",
      "2047    6.228058e-02\n",
      "2048    1.776357e-15\n",
      "2049    6.580813e-02\n",
      "dtype: float64\n"
     ]
    },
    {
     "ename": "NameError",
     "evalue": "name 'MODEL_CO2_PREINDUSTRIAL' is not defined",
     "output_type": "error",
     "traceback": [
      "\u001b[0;31m---------------------------------------------------------------------------\u001b[0m",
      "\u001b[0;31mNameError\u001b[0m                                 Traceback (most recent call last)",
      "Cell \u001b[0;32mIn[3], line 211\u001b[0m\n\u001b[1;32m    196\u001b[0m \u001b[39m####################################\u001b[39;00m\n\u001b[1;32m    197\u001b[0m \u001b[39m# WRITE NEAR-FUTURE FF CO2 EMISSIONS\u001b[39;00m\n\u001b[1;32m    198\u001b[0m \u001b[39m####################################\u001b[39;00m\n\u001b[0;32m   (...)\u001b[0m\n\u001b[1;32m    203\u001b[0m \u001b[39m#############################\u001b[39;00m\n\u001b[1;32m    204\u001b[0m \u001b[39m# Print out some debug information and also write these to a file\u001b[39;00m\n\u001b[1;32m    205\u001b[0m \u001b[39mif\u001b[39;00m DEBUG:\n\u001b[1;32m    206\u001b[0m     debug_str \u001b[39m=\u001b[39m (\n\u001b[1;32m    207\u001b[0m         \u001b[39m'\u001b[39m\u001b[39mINPUT ARGUMENTS: \u001b[39m\u001b[39m\\n\u001b[39;00m\u001b[39m'\u001b[39m\n\u001b[1;32m    208\u001b[0m         \u001b[39mf\u001b[39m\u001b[39m'\u001b[39m\u001b[39m[DEBUG] Year X: \u001b[39m\u001b[39m{\u001b[39;00mYEAR_X\u001b[39m}\u001b[39;00m\u001b[39m\\n\u001b[39;00m\u001b[39m'\u001b[39m\n\u001b[1;32m    209\u001b[0m         \u001b[39mf\u001b[39m\u001b[39m'\u001b[39m\u001b[39m[DEBUG] Relative Target Temperature: \u001b[39m\u001b[39m{\u001b[39;00mREL_TEMP_TARGET\u001b[39m}\u001b[39;00m\u001b[39m\\n\u001b[39;00m\u001b[39m'\u001b[39m\n\u001b[1;32m    210\u001b[0m         \u001b[39mf\u001b[39m\u001b[39m'\u001b[39m\u001b[39m[DEBUG] Target Temperature Type: \u001b[39m\u001b[39m{\u001b[39;00mTEMP_TARGET_TYPE\u001b[39m}\u001b[39;00m\u001b[39m\\n\u001b[39;00m\u001b[39m'\u001b[39m\n\u001b[0;32m--> 211\u001b[0m         \u001b[39mf\u001b[39m\u001b[39m'\u001b[39m\u001b[39m[DEBUG] Preindustrial CO2: \u001b[39m\u001b[39m{\u001b[39;00mMODEL_CO2_PREINDUSTRIAL\u001b[39m}\u001b[39;00m\u001b[39m\\n\u001b[39;00m\u001b[39m'\u001b[39m\n\u001b[1;32m    212\u001b[0m         \u001b[39mf\u001b[39m\u001b[39m'\u001b[39m\u001b[39m[DEBUG] Model start year: \u001b[39m\u001b[39m{\u001b[39;00mMODEL_START_YEAR\u001b[39m}\u001b[39;00m\u001b[39m\\n\u001b[39;00m\u001b[39m\\n\u001b[39;00m\u001b[39m\\n\u001b[39;00m\u001b[39m\\n\u001b[39;00m\u001b[39m'\u001b[39m\n\u001b[1;32m    213\u001b[0m         \u001b[39m'\u001b[39m\u001b[39mOUTPUT: \u001b[39m\u001b[39m\\n\u001b[39;00m\u001b[39m'\u001b[39m\n\u001b[1;32m    214\u001b[0m         \u001b[39mf\u001b[39m\u001b[39m'\u001b[39m\u001b[39m[DEBUG] Calculated the following emissions: \u001b[39m\u001b[39m{\u001b[39;00ms_emission_future\u001b[39m}\u001b[39;00m\u001b[39m'\u001b[39m\n\u001b[1;32m    215\u001b[0m         )\n\u001b[1;32m    217\u001b[0m     \u001b[39mtry\u001b[39;00m:\n\u001b[1;32m    218\u001b[0m         debug_filename \u001b[39m=\u001b[39m \u001b[39mf\u001b[39m\u001b[39m'\u001b[39m\u001b[39m{\u001b[39;00mYEAR_X\u001b[39m}\u001b[39;00m\u001b[39m_\u001b[39m\u001b[39m{\u001b[39;00m\u001b[39mint\u001b[39m(time\u001b[39m.\u001b[39mtime())\u001b[39m}\u001b[39;00m\u001b[39m.debug\u001b[39m\u001b[39m'\u001b[39m\n",
      "\u001b[0;31mNameError\u001b[0m: name 'MODEL_CO2_PREINDUSTRIAL' is not defined"
     ]
    }
   ],
   "source": [
    "\"\"\"Filled template1.py for use with ACCESS ESM1.5\n",
    "\n",
    "An \"AERA run script\" will load all the neccessary time series from\n",
    "your ESM simulation and call the AERA algorithm with this data.\n",
    "Finally it will save the near-future fossil fuel CO2 emissions in\n",
    "a format that is compatible with your ESM (e.g. as a NetCDF file).\n",
    "\n",
    "Usage:\n",
    "    $ python SCRIPT_NAME SIMULATION_DIRECTORY STOCKTAKE_YEAR \\\n",
    "        REL_TEMP_TARGET TEMP_TARGET_TYPE\n",
    "\n",
    "EXAMPLE RUN COMMANDS:\n",
    "    1)\n",
    "    $ python template1_filled_gfdl.py $SCRATCH/AERA_T15_1_ENS1 2025 1.5 1\n",
    "    This command runs the AERA algorithm for the simulation\n",
    "    \"AERA_T15_1_ENS1\" (stored in $SCRATCH/AERA_T15_1_ENS1) and\n",
    "    the stocktake year 2025 (thus it calculates emissions for the\n",
    "    period 2026-2030) with a relative temperature target of 1.5K.\n",
    "    The temperature target is calculated relative to\n",
    "    the observed anthropogenic warming in 2020 (\"type 1 temperature\n",
    "    target\").\n",
    "\n",
    "    2)\n",
    "    $ python template1_filled_gfdl.py $SCRATCH/AERA_T25_2_ENS1 2060 2.5 2\n",
    "    This command runs the AERA algorithm for the simulation\n",
    "    \"AERA_T25_2_ENS1\" (stored in $SCRATCH/AERA_T25_2_ENS1) and\n",
    "    the stocktake year 2060 (thus it calculates emissions for the\n",
    "    period 2061-2065) with a relative temperature target of 2.5K.\n",
    "    The temperature target is calculated relative to\n",
    "    the mean temperature in the ESM in the period 1850-1900\n",
    "    (\"type 2 temperature target\").\n",
    "\n",
    "TODO: If you want to adapt the following script, first jump to all\n",
    "the TODOs (lines that start with \"# TODO\") in the script and\n",
    "make according changes.\n",
    "\n",
    "SOLVED: In addition to the \"TODO comments\" there are some\n",
    "\"SOLVED comments\" (lines that start with \"# SOLVED\") to clarify\n",
    "where code was changed/inserted.\n",
    "\n",
    "\"\"\"\n",
    "import datetime\n",
    "from pathlib import Path\n",
    "import sys\n",
    "import time\n",
    "\n",
    "import cftime\n",
    "from netCDF4 import Dataset\n",
    "import numpy as np\n",
    "import pandas as pd\n",
    "import xarray as xr\n",
    "\n",
    "import aera\n",
    "\n",
    "if ABS:\n",
    "    TEMP_TARGET_TYPE = 2\n",
    "else:\n",
    "    TEMP_TARGET_TYPE = 1\n",
    "\n",
    "PROJECT_DIR = Path('/project/s996/maschwan')\n",
    "# Directory where several aera specific file are stored.\n",
    "AERA_DATA_DIR = PROJECT_DIR / 'aera_data'\n",
    "AERA_DATA_DIR = Path('/scratch/p66/mrd599')\n",
    "AERA_DATA_DIR = Path('/scratch/p66/mrd599')\n",
    "\n",
    "\n",
    "###########\n",
    "# CONSTANTS\n",
    "###########\n",
    "# Model start year: Defines in which year the ESM historical run\n",
    "# starts.\n",
    "MODEL_START_YEAR = 1850\n",
    "\n",
    "# Enable/Disable output of debug information\n",
    "DEBUG = True\n",
    "\n",
    "######################\n",
    "# READ INPUT ARGUMENTS\n",
    "######################\n",
    "SIMULATION_DIR = Path(sys.argv[1])\n",
    "YEAR_X = year # int(sys.argv[2])\n",
    "REL_TEMP_TARGET = target # float(sys.argv[3])\n",
    "# TEMP_TARGET_TYPE = int(sys.argv[4])\n",
    "\n",
    "# Verify that the given stocktake year (YEAR_X) is valid\n",
    "if YEAR_X % 5 != 0:\n",
    "    raise ValueError(\n",
    "        f'YEAR_X is not valid ({YEAR_X})! Abort adaptive emission calculation.'\n",
    "        'YEAR_X must be divisible by 5 (e.g. 2025, 2030, 2035).')\n",
    "\n",
    "AERA_DIR = SIMULATION_DIR / 'AERA'\n",
    "AERA_DIR = Path('/scratch/p66/mrd599')\n",
    "OUTPUT_EMISSION_FILE = SIMULATION_DIR / 'INPUT/co2_emission.nc'\n",
    "EMISSION_CSV_FILE = AERA_DIR / f'ff_emission.csv'\n",
    "# 1 Pg C-normalized 3D (time, lat, lon) monthly fossil fuel emission file\n",
    "YEAR_EMISSION_FILE = AERA_DIR / 'emission_pattern_1Pg_1year.nc'\n",
    "\n",
    "\n",
    "###################################\n",
    "# COLLECT DATA AND CREATE DATAFRAME\n",
    "###################################\n",
    "# The AERA algorithm needs several time series as its input.\n",
    "# To make the usage of the algorithm easier and to assure\n",
    "# that the input data is correctly formated the main function\n",
    "# `aera.get_adaptive_emissions` takes a pandas.DataFrame as its\n",
    "# input.\n",
    "# The `aera` module also provides a function which returns\n",
    "# a \"template dataframe\". The data in this dataframe can now be\n",
    "# overwritten with the data from the running simulation.\n",
    "\n",
    "# Get the template dataframe\n",
    "df = aera.get_base_df()\n",
    "\n",
    "# This dataframe contains the following columns\n",
    "# - non_co2_emission\n",
    "# - ff_emission\n",
    "# - lu_emission\n",
    "# - temp\n",
    "# The index of the dataframe is \"year\".\n",
    "#\n",
    "# TODO(2): The columns ff_emission and temp MUST be provided\n",
    "#       (i.e. the data in the dataframe in these columns must be set)\n",
    "# TODO(2) (optional): The 'standard' data in the columns\n",
    "#       non_co2_emission, and lu_emission should also be provided if\n",
    "#       model-specific time series are available.\n",
    "#\n",
    "# Note: For all these time series except ff_emission, data from\n",
    "# `MODEL_START_YEAR` until `YEAR_X` must be provided (e.g. 1850-2025).\n",
    "# The fossil fuel emissions must be provided from 2026 onward.\n",
    "# Before 2026 all models should have identical (or very similar)\n",
    "# emissions (only after 2026 they begin to use the AERA algorithm),\n",
    "# therefore the fossil fuel emission data from 1700 until 2025 is\n",
    "# contained in the AERA python module.\n",
    "#\n",
    "# To provide the above mentioned data:\n",
    "#   1) Load the data (e.g. using xarray.open_dataset)\n",
    "#   2) Calculate global annual mean values\n",
    "#   3) Overwrite values in `df`\n",
    "#\n",
    "# This could look something like:\n",
    "# df['temp'].loc[MODEL_START_YEAR:YEAR_X] =\n",
    "# df['ff_emission'].loc[2026:YEAR_X] =\n",
    "# (optional): df['non_co2_emission'].loc[MODEL_START_YEAR:YEAR_X] =\n",
    "# (optional): df['lu_emission'].loc[MODEL_START_YEAR:YEAR_X] =\n",
    "\n",
    "# SOLVED(2): In the following temperature, CO2 concentration,\n",
    "#       fossil fuel emission (from 2026 onward), and non-CO2\n",
    "#       emission time series are loaded and\n",
    "#       written into the dataframe \"df\".\n",
    "\n",
    "\n",
    "# Temperature\n",
    "df['temp'].loc[MODEL_START_YEAR:YEAR_X] = tas.values\n",
    "df['lu_emission'].loc[:] = 0.\n",
    "# LUC file goes to 2500 but other AERA data only to 2499\n",
    "df['lu_emission'].loc[MODEL_START_YEAR:2499] = luc.values[:-1]\n",
    "# rf_save = df['rf_non_co2'].copy()\n",
    "# df['rf_non_co2'].loc[1950:1969] -= np.linspace(0,0.5,20)\n",
    "# df['rf_non_co2'].loc[1970:1999] -= 0.5\n",
    "# df['rf_non_co2'].loc[2000:2020] -= np.linspace(0.5,0,21)\n",
    "\n",
    "# Fossil fuel emission\n",
    "try:\n",
    "    # Fossil fuel data is loaded directly from the CSV file\n",
    "    # which is written out by this script (thus only data is\n",
    "    # loaded which was previously calculated by this script).\n",
    "    _df_tmp = pd.read_csv(EMISSION_CSV_FILE, index_col=0).dropna()\n",
    "    values = _df_tmp.loc[2026:YEAR_X].values.flatten()\n",
    "    df['ff_emission'].loc[2026:YEAR_X] = values\n",
    "except FileNotFoundError:\n",
    "    print(\n",
    "        EMISSION_CSV_FILE, 'doesn\\'t exist. '\n",
    "        'Only emissions after 2025 are available.')\n",
    "\n",
    "#####################\n",
    "# CALL AERA ALGORITHM\n",
    "#####################\n",
    "# Using the above created dataframe `df` we can now call the\n",
    "# AERA algorithm:\n",
    "s_emission_future = aera.get_adaptive_emissions(\n",
    "    temp_target_rel=REL_TEMP_TARGET,\n",
    "    temp_target_type=TEMP_TARGET_TYPE,\n",
    "    year_x=YEAR_X,\n",
    "    model_start_year=MODEL_START_YEAR,\n",
    "    df=df,\n",
    "    meta_file=AERA_DIR/f'meta_data_new_{YEAR_X}.nc',\n",
    "    )\n",
    "\n",
    "# The future ff emissions are saved to a CSV file. But the ff emission\n",
    "# also must be saved in a format which can be read by the ESM in use.\n",
    "s_emission = df['ff_emission']\n",
    "s_emission.update(s_emission_future)\n",
    "s_emission.to_csv(EMISSION_CSV_FILE)\n",
    "\n",
    "\n",
    "####################################\n",
    "# WRITE NEAR-FUTURE FF CO2 EMISSIONS\n",
    "####################################\n",
    "\n",
    "\n",
    "#############################\n",
    "# WRITE DEBUG INFORMATION\n",
    "#############################\n",
    "# Print out some debug information and also write these to a file\n",
    "if DEBUG:\n",
    "    debug_str = (\n",
    "        'INPUT ARGUMENTS: \\n'\n",
    "        f'[DEBUG] Year X: {YEAR_X}\\n'\n",
    "        f'[DEBUG] Relative Target Temperature: {REL_TEMP_TARGET}\\n'\n",
    "        f'[DEBUG] Target Temperature Type: {TEMP_TARGET_TYPE}\\n'\n",
    "        f'[DEBUG] Model start year: {MODEL_START_YEAR}\\n\\n\\n\\n'\n",
    "        'OUTPUT: \\n'\n",
    "        f'[DEBUG] Calculated the following emissions: {s_emission_future}'\n",
    "        )\n",
    "\n",
    "    try:\n",
    "        debug_filename = f'{YEAR_X}_{int(time.time())}.debug'\n",
    "        # The debug file will be created where the \"AERA run script\" lies\n",
    "        debug_file = AERA_DIR / debug_filename\n",
    "        with open(debug_file, 'w') as f:\n",
    "            f.write(debug_str)\n",
    "    except PermissionError:\n",
    "        print('[WARNING] Failed to write the debug information '\n",
    "              f'to {debug_file} (permission denied).')\n"
   ]
  },
  {
   "cell_type": "code",
   "execution_count": 13,
   "metadata": {
    "vscode": {
     "languageId": "python"
    }
   },
   "outputs": [
    {
     "data": {
      "image/png": "[encoded data removed]",
      "text/plain": [
       "<Figure size 432x288 with 1 Axes>"
      ]
     },
     "metadata": {
      "needs_background": "light"
     },
     "output_type": "display_data"
    }
   ],
   "source": [
    "dm_2025_std = xr.load_dataset('/scratch/p66/mrd599/meta_data_2025_std.nc')\n",
    "dm_2025_mod = xr.load_dataset('/scratch/p66/mrd599/meta_data_2025.nc')\n",
    "dm_2025_new = xr.load_dataset('/scratch/p66/mrd599/meta_data_new_2025.nc')\n",
    "fig, axes = plt.subplots()\n",
    "plt.plot(np.arange(1850,1850+len(tas)), tas.data, label='Model', color='black')\n",
    "dm_2025_std.temp_anth[0].plot(label='Old Fit', lw=2)\n",
    "# dm_2025_mod.temp_anth[0].plot(label='Old Fit modified RF')\n",
    "dm_2025_new.temp_anth[0].plot(label='New Fit', lw=2)\n",
    "axes.legend()\n",
    "axes.set_title('AERA Temperature Fit')\n",
    "axes.set_xlim(1850,2025)\n",
    "axes.grid(True)\n",
    "savefig('aera_temp_fit.png')"
   ]
  },
  {
   "cell_type": "code",
   "execution_count": 14,
   "metadata": {
    "vscode": {
     "languageId": "python"
    }
   },
   "outputs": [
    {
     "data": {
      "image/png": "[encoded data removed]",
      "text/plain": [
       "<Figure size 432x288 with 1 Axes>"
      ]
     },
     "metadata": {
      "needs_background": "light"
     },
     "output_type": "display_data"
    }
   ],
   "source": [
    "fig, axes = plt.subplots()\n",
    "dm_2025_std.ff_emission[0].plot(label='Old method')\n",
    "# dm_2025_mod.ff_emission[0].plot(label='Old method: modified RF')\n",
    "dm_2025_new.ff_emission[0].plot(label='New method')\n",
    "axes.legend()\n",
    "axes.set_title('AERA FF emissions')\n",
    "axes.grid(True)\n",
    "axes.set_ylabel('Pg C / year')\n",
    "axes.set_xlim(2000,2050)\n",
    "savefig('aera_new_ff.png')"
   ]
  },
  {
   "cell_type": "code",
   "execution_count": null,
   "metadata": {
    "vscode": {
     "languageId": "python"
    }
   },
   "outputs": [],
   "source": [
    "d1p5_bern = pd.read_csv('/scratch/p66/mrd599/ff_emission_1p5_bern_luc.csv')\n",
    "d1p5 = pd.read_csv('/scratch/p66/mrd599/ff_emission_1p5.csv')\n",
    "df_luc21 = pd.read_csv('/scratch/p66/mrd599/ff_emission_1p5_luc21.csv')"
   ]
  },
  {
   "cell_type": "code",
   "execution_count": null,
   "metadata": {
    "vscode": {
     "languageId": "python"
    }
   },
   "outputs": [],
   "source": [
    "fig, axes = plt.subplots()\n",
    "plt.plot(d1p5_bern['year'], d1p5_bern['ff_emission'], label='1.5 with Bern LUC')\n",
    "plt.plot(d1p5['year'], d1p5['ff_emission'], label='1.5 with ESM LUC')\n",
    "plt.plot(df_luc21['year'], df_luc21['ff_emission'], label='1.5 with ESM 21 year LUC')\n",
    "axes.grid(True)\n",
    "axes.legend()\n",
    "axes.set_xlim(1950,2100)\n",
    "fig, axes = plt.subplots()\n",
    "plt.plot(d1p5_bern['year'], d1p5_bern['ff_emission'], label='1.5 with Bern LUC')\n",
    "plt.plot(d1p5['year'], d1p5['ff_emission'], label='1.5 with ESM LUC')\n",
    "plt.plot(df_luc21['year'], df_luc21['ff_emission'], label='1.5 with ESM 21 year LUC')\n",
    "axes.grid(True)\n",
    "axes.legend()\n",
    "# axes.set_xlim(1950,2100)\n",
    "axes.set_xlim(2020,2030)\n",
    "axes.set_ylim(9,12)"
   ]
  },
  {
   "cell_type": "code",
   "execution_count": null,
   "metadata": {
    "vscode": {
     "languageId": "python"
    }
   },
   "outputs": [],
   "source": [
    "# Use s_emission_future to create an emissions file for the next period\n",
    "ancil = mule.AncilFile.from_file('/g/data/p66/mrd599/AERA/CO2_fluxes_AERA_ABS1p5-03.anc')\n",
    "ancil_new = ancil.copy(include_fields=True)\n",
    "\n",
    "# First year in this is 2014 which is the base year for scaling emissions\n",
    "FF_2014 = 9.84576 # ESM1.5 emissions (from CO2_2015_20025.ipynb)\n",
    "\n",
    "# for y in range(YEAR_X+1,2086):\n",
    "for y in range(YEAR_X+1,YEAR_X+6):\n",
    "    scale_factor = s_emission_future[y] / FF_2014\n",
    "    print(y, scale_factor)\n",
    "    scale_op = ScaleFactorOperator(scale_factor)\n",
    "    for mon in range(12):\n",
    "        newff = scale_op(ancil.fields[mon])\n",
    "        newff.lbyr = y + mon//12\n",
    "        newff.lbyrd = y + mon//12\n",
    "        ancil_new.fields.append(newff)\n",
    "\n",
    "ancil_new.to_file('/g/data/p66/mrd599/AERA/CO2_fluxes_new.anc')\n"
   ]
  },
  {
   "cell_type": "code",
   "execution_count": null,
   "metadata": {
    "vscode": {
     "languageId": "python"
    }
   },
   "outputs": [],
   "source": [
    "np.linspace(0.5,0,21)"
   ]
  }
 ],
 "metadata": {
  "kernelspec": {
   "display_name": "Python 3 (ipykernel)",
   "language": "python",
   "name": "python3"
  },
  "orig_nbformat": 4,
  "vscode": {
   "interpreter": {
    "hash": "cf1dd75a5e5f154436f622b79e8e69201ba60e78a7a86f24cf032a73f27eba93"
   }
  }
 },
 "nbformat": 4,
 "nbformat_minor": 2
}
